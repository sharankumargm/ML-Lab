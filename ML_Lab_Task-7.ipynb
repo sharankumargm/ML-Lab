{
  "nbformat": 4,
  "nbformat_minor": 0,
  "metadata": {
    "colab": {
      "provenance": []
    },
    "kernelspec": {
      "name": "python3",
      "display_name": "Python 3"
    },
    "language_info": {
      "name": "python"
    }
  },
  "cells": [
    {
      "cell_type": "code",
      "execution_count": 4,
      "metadata": {
        "colab": {
          "base_uri": "https://localhost:8080/"
        },
        "id": "zGbGVwumUyDX",
        "outputId": "6730f932-dcb8-4ec1-9c64-df30a1b8728d"
      },
      "outputs": [
        {
          "output_type": "stream",
          "name": "stdout",
          "text": [
            "Vector: [0.71051885 0.23939345 0.85683561 0.31948446 0.12133978]\n",
            "Mean of the vector: 0.4495144276572013\n",
            "Variance of the vector: 0.08055821464986404\n"
          ]
        }
      ],
      "source": [
        "#1 Create a vector (array) of 1XN dimension representing N-dimensional feature vector of a sample. Write a program to\n",
        "# compute the mean and variance of the elements present in the array.\n",
        "\n",
        "def compute_mean_and_variance(vector):\n",
        "    mean = np.mean(vector)\n",
        "    variance = np.var(vector)\n",
        "    return mean, variance\n",
        "\n",
        "# Example usage:\n",
        "N = 5  # Number of dimensions\n",
        "vector = np.random.rand(N)  # Generating a random feature vector of size N\n",
        "print(\"Vector:\",vector)\n",
        "mean, variance = compute_mean_and_variance(vector)\n",
        "print(\"Mean of the vector:\", mean)\n",
        "print(\"Variance of the vector:\", variance)\n"
      ]
    },
    {
      "cell_type": "code",
      "source": [
        "#2 Create two vectors each of dimension 1XM each representing N-dimensional feature vector of a sample. Write a program to\n",
        "# compute the Covariance between them.\n",
        "\n",
        "import numpy as np\n",
        "\n",
        "def compute_covariance(vector1, vector2):\n",
        "    covariance = np.cov(vector1, vector2, bias=True)[0][1]\n",
        "    return covariance\n",
        "\n",
        "# Example usage:\n",
        "M = 5  # Number of dimensions\n",
        "N = 100  # Number of samples\n",
        "# Generating two random feature vectors of size M\n",
        "vector1 = np.random.rand(1, M)\n",
        "vector2 = np.random.rand(1, M)\n",
        "print(\"Vector 1:\", vector1)\n",
        "print(\"Vector 2:\", vector2)\n",
        "covariance = compute_covariance(vector1, vector2)\n",
        "print(\"Covariance between the two vectors:\", covariance)"
      ],
      "metadata": {
        "colab": {
          "base_uri": "https://localhost:8080/"
        },
        "id": "OIZXzpdrVEOj",
        "outputId": "ac575979-83e3-4d21-c1d2-179ee46049f4"
      },
      "execution_count": 5,
      "outputs": [
        {
          "output_type": "stream",
          "name": "stdout",
          "text": [
            "Vector 1: [[0.11213883 0.28811214 0.49511203 0.03385591 0.25866295]]\n",
            "Vector 2: [[0.28464524 0.07666789 0.05212985 0.00949733 0.4786605 ]]\n",
            "Covariance between the two vectors: -0.0020493838268932324\n"
          ]
        }
      ]
    },
    {
      "cell_type": "code",
      "source": [
        "#3 Create two vectors each of dimension 1XN. Write a program to compute the Correlation between them.\n",
        "\n",
        "import numpy as np\n",
        "\n",
        "def compute_correlation(vector1, vector2):\n",
        "    correlation = np.corrcoef(vector1, vector2)[0, 1]\n",
        "    return correlation\n",
        "\n",
        "# Example usage:\n",
        "N = 5  # Number of dimensions\n",
        "vector1 = np.random.rand(N)  # Generating a random vector of size N\n",
        "vector2 = np.random.rand(N)  # Generating another random vector of size N\n",
        "print(\"Vector 1:\", vector1)\n",
        "print(\"Vector 2:\", vector2)\n",
        "correlation = compute_correlation(vector1, vector2)\n",
        "print(\"Correlation between vector 1 and vector 2:\", correlation)\n"
      ],
      "metadata": {
        "colab": {
          "base_uri": "https://localhost:8080/"
        },
        "id": "VmJJ4hywWFf-",
        "outputId": "03523ccb-fa5b-4e4e-d846-c2ed307f6ce0"
      },
      "execution_count": 6,
      "outputs": [
        {
          "output_type": "stream",
          "name": "stdout",
          "text": [
            "Vector 1: [0.74689511 0.901589   0.76374201 0.16749704 0.04151512]\n",
            "Vector 2: [0.78369869 0.94036129 0.95483795 0.68959206 0.44972124]\n",
            "Correlation between vector 1 and vector 2: 0.9101275773714146\n"
          ]
        }
      ]
    },
    {
      "cell_type": "code",
      "source": [
        "#4 Create a Matrix of MXN dimension representing the M-dimensional feature vector for N number of samples i. e (i,j)th\n",
        "#entry of the matrix represents the ith feature of jth sample. Write a program to compute the covariance matrix and\n",
        "#correlation matrix.\n",
        "\n",
        "import numpy as np\n",
        "\n",
        "def compute_covariance_matrix(feature_matrix):\n",
        "    covariance_matrix = np.cov(feature_matrix)\n",
        "    return covariance_matrix\n",
        "\n",
        "def compute_correlation_matrix(feature_matrix):\n",
        "    correlation_matrix = np.corrcoef(feature_matrix)\n",
        "    return correlation_matrix\n",
        "\n",
        "# Example usage:\n",
        "M = 3  # Number of dimensions/features\n",
        "N = 5  # Number of samples\n",
        "feature_matrix = np.random.rand(M, N)  # Generating a random feature matrix of size MxN\n",
        "print(\"Feature matrix:\")\n",
        "print(feature_matrix)\n",
        "covariance_matrix = compute_covariance_matrix(feature_matrix)\n",
        "print(\"\\nCovariance matrix:\")\n",
        "print(covariance_matrix)\n",
        "correlation_matrix = compute_correlation_matrix(feature_matrix)\n",
        "print(\"\\nCorrelation matrix:\")\n",
        "print(correlation_matrix)\n"
      ],
      "metadata": {
        "colab": {
          "base_uri": "https://localhost:8080/"
        },
        "id": "IBkR0JZ3WWBi",
        "outputId": "f1a18e98-01ed-4f53-a00e-e1e7f56c10ed"
      },
      "execution_count": 7,
      "outputs": [
        {
          "output_type": "stream",
          "name": "stdout",
          "text": [
            "Feature matrix:\n",
            "[[0.96306432 0.27531914 0.96001998 0.42293299 0.85873124]\n",
            " [0.6124393  0.66197521 0.79024432 0.96495837 0.00147996]\n",
            " [0.07999097 0.64720465 0.28371629 0.79923399 0.8500426 ]]\n",
            "\n",
            "Covariance matrix:\n",
            "[[ 0.10476233 -0.04239445 -0.06398727]\n",
            " [-0.04239445  0.132854   -0.03463604]\n",
            " [-0.06398727 -0.03463604  0.11294854]]\n",
            "\n",
            "Correlation matrix:\n",
            "[[ 1.         -0.35935122 -0.58823472]\n",
            " [-0.35935122  1.         -0.28274871]\n",
            " [-0.58823472 -0.28274871  1.        ]]\n"
          ]
        }
      ]
    },
    {
      "cell_type": "code",
      "source": [],
      "metadata": {
        "id": "iqvqVEmqWsy-"
      },
      "execution_count": null,
      "outputs": []
    }
  ]
}